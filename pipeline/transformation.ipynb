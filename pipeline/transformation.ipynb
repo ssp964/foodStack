{
 "cells": [
  {
   "cell_type": "code",
   "execution_count": 0,
   "metadata": {
    "application/vnd.databricks.v1+cell": {
     "cellMetadata": {},
     "inputWidgets": {},
     "nuid": "eaa0fe43-7624-4050-b1ce-f07a51f98df3",
     "showTitle": false,
     "tableResultSettingsMap": {},
     "title": ""
    }
   },
   "outputs": [],
   "source": [
    "import pandas as pd\n",
    "from sklearn.preprocessing import OneHotEncoder, StandardScaler\n",
    "from sklearn.compose import ColumnTransformer\n",
    "\n",
    "# Function to divide data into features (X) and target (y)\n",
    "def divide_data(data: pd.DataFrame, target_column: str = \"Amount\"):\n",
    "    \"\"\"\n",
    "    Divides the data into features (X) and target (y).\n",
    "\n",
    "    Parameters:\n",
    "    - data: DataFrame to divide\n",
    "    - target_column: Column to use as the target variable\n",
    "\n",
    "    Returns:\n",
    "    - X: Features DataFrame\n",
    "    - y: Target Series\n",
    "    \"\"\"\n",
    "\n",
    "    feature_columns = [col for col in data.columns if col != target_column]\n",
    "    X = data[feature_columns]\n",
    "    y = data[target_column]\n",
    "    return X, y\n",
    "\n",
    "# Function to preprocess the data\n",
    "# Function to preprocess the data\n",
    "def preprocess_data(data: pd.DataFrame):\n",
    "    \"\"\"\n",
    "    Preprocesses the data using a ColumnTransformer for scaling and encoding.\n",
    "\n",
    "    Parameters:\n",
    "    - data: DataFrame to preprocess\n",
    "\n",
    "    Returns:\n",
    "    - transformed_data: Preprocessed data as a NumPy array (ready for model input)\n",
    "    - preprocessor: Fitted ColumnTransformer for consistent preprocessing\n",
    "    \"\"\"\n",
    "\n",
    "    # Step 1: Map the 'Day' column\n",
    "    day_mapping = {\n",
    "        \"Monday\": 0,\n",
    "        \"Tuesday\": 1,\n",
    "        \"Wednesday\": 2,\n",
    "        \"Thursday\": 3,\n",
    "        \"Friday\": 4,\n",
    "        \"Saturday\": 5,\n",
    "        \"Sunday\": 6\n",
    "    }\n",
    "    data = data.copy()  # Avoid modifying the original DataFrame\n",
    "    data[\"Day\"] = data[\"Day\"].map(day_mapping)\n",
    "\n",
    "    # Step 2: Define the preprocessing pipeline\n",
    "    preprocessor = ColumnTransformer(\n",
    "        transformers=[\n",
    "            # Scale 'Day' and 'Hour'\n",
    "            (\"scale\", StandardScaler(), [\"Day\", \"Hour\"]),\n",
    "            # One-hot encode 'Dish'\n",
    "            (\"onehot\", OneHotEncoder(), [\"Dish\"])\n",
    "        ]\n",
    "    )\n",
    "\n",
    "    # Step 3: Apply the transformations\n",
    "    transformed_data = preprocessor.fit_transform(data)\n",
    "\n",
    "    return transformed_data, preprocessor\n"
   ]
  }
 ],
 "metadata": {
  "application/vnd.databricks.v1+notebook": {
   "computePreferences": null,
   "dashboards": [],
   "environmentMetadata": {
    "base_environment": "",
    "client": "1"
   },
   "language": "python",
   "notebookMetadata": {
    "pythonIndentUnit": 4
   },
   "notebookName": "transformation",
   "widgets": {}
  }
 },
 "nbformat": 4,
 "nbformat_minor": 0
}
